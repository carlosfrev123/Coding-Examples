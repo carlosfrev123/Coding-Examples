{
  "cells": [
    {
      "attachments": {},
      "cell_type": "markdown",
      "id": "13ad028b-72b7-43ed-aa78-96fd4e518040",
      "metadata": {
        "id": "13ad028b-72b7-43ed-aa78-96fd4e518040"
      },
      "source": [
        "# Assignment: Data Wrangling and Exploratory Data Analysis\n",
        "## Do Q1 and Q2, and one other question.\n",
        "`! git clone https://www.github.com/DS3001/assignment2`"
      ]
    },
    {
      "attachments": {},
      "cell_type": "markdown",
      "id": "5735a4d4-8be8-433a-a351-70eb8002e632",
      "metadata": {
        "id": "5735a4d4-8be8-433a-a351-70eb8002e632"
      },
      "source": [
        "**Q1.** Open the \"tidy_data.pdf\" document in the repo, which is a paper called Tidy Data by Hadley Wickham.\n",
        "\n",
        "  1. Read the abstract. What is this paper about?\n",
        "    \n",
        "    -> This paper looks into the overlooked aspect of data cleaning, specifically data tidying. It highlights the importance of structuring data in specific format in order to avoid error in data handling.\n",
        "\n",
        "  2. Read the introduction. What is the \"tidy data standard\" intended to accomplish?\n",
        "    \n",
        "    -> The tidy data standard is intended to provide a univeral standard for data tidying to have consistency amongst anyone who wishes to understand the data of a data table that uses that standard. As long as there is consistency within the standard one is able to traverse any data set that uses the tidy data standard. Kind of like if you are able to learn the alphabet you should be able to learn and eventually understand every word that uses that alphabet.\n",
        "    \n",
        "\n",
        "  3. Read the intro to section 2. What does this sentence mean: \"Like families, tidy datasets are all alike but every messy dataset is messy in its own way.\" What does this sentence mean: \"For a given dataset, it’s usually easy to figure out what are observations and what are variables, but it is surprisingly difficult to precisely define variables and observations in general.\"\n",
        "\n",
        "    ->\"Like families, tidy datasets are all alike but every messy dataset is messy in its own way.\" Each tidy data set follows the same standard just like a \"tidy\" family or healthy family follows a similarity. To clarify if we take the nuclear family as the standard for \"healthy\" then all nuclear families are alike. Howver all non nuclear families are very different in the same way any messy dataset will follow its own standard so it will be different to every other messy dataset on top of being different to the tidy datasets.\n",
        "   \n",
        "  4. Read Section 2.2. How does Wickham define values, variables, and observations?\n",
        "\n",
        "    -> Values are the individual quantitative or qualitative data points iwithin the data set. \n",
        "    -> Variables are way of grouping values within the same data set dependant on a category that they fit in or a standard that they follow.\n",
        "    -> Observations are units of measurment that are in a dataset. An Observation contains all the values that were recorded on one unit or from one (or more)variables.\n",
        "\n",
        "  5. How is \"Tidy Data\" defined in section 2.3?\n",
        "\n",
        "    -> tidy data is defined as a standard way of mapping the meaning of a dataset to its structure. In tidy data 3 rules are defined.\n",
        "    -> 1. Each variable forms a column\n",
        "    -> 2. Each observation forms a row.\n",
        "    -> 3. Each type of observational unit forms a table.\n",
        "\n",
        "  6. Read the intro to Section 3 and Section 3.1. What are the 5 most common problems with messy datasets? Why are the data in Table 4 messy? What is \"melting\" a dataset?\n",
        "\n",
        "    -> 5 most common problems with messy datasets are: \n",
        "    Column headers are values, not variable names.\n",
        "    Multiple variables are stored in one column.\n",
        "    Variables are stored in both rows and columns.\n",
        "    Multiple types of observational units are stored in the same table.\n",
        "    A single observational unit is stored in multiple tables.\n",
        "    -> in table 4 Column headers are values, multiple variables are stored in both rows and columns: the column headers are ranges which are variables and the row headers are variables. \n",
        "    -> melting in a dataset is the process of turning columns into rows\n",
        "\n",
        "  7. Why, specifically, is table 11 messy but table 12 tidy and \"molten\"?\n",
        "\n",
        "    -> table 11 stores date in separate columns. Table 11 leaves multiple columns blank.\n",
        "    -> table 12 stores values into separate tables molten and tidy as to separate overlapping values taken from table 11.\n",
        "\n",
        "  8. Read Section 6. What is the \"chicken-and-egg\" problem with focusing on tidy data? What does Wickham hope happens in the future with further work on the subject of data wrangling?\n",
        "\n",
        "    -> tidy data is only as useful as the tools that are designed to work with it hoever the development of tidy tools is linked to the structure of tidy data so its a paradox.\n",
        "    -> Wickham hopes incremental improvements will continue to happen as we understand tidy data and tools further."
      ]
    },
    {
      "attachments": {},
      "cell_type": "markdown",
      "id": "da879ea7-8aac-48a3-b6c2-daea56d2e072",
      "metadata": {
        "id": "da879ea7-8aac-48a3-b6c2-daea56d2e072"
      },
      "source": [
        "**Q2.** This question provides some practice cleaning variables which have common problems.\n",
        "1. Numeric variable: For `./data/airbnb_hw.csv`, clean the `Price` variable as well as you can, and explain the choices you make. How many missing values do you end up with? (Hint: What happens to the formatting when a price goes over 999 dollars, say from 675 to 1,112?)\n",
        "2. Categorical variable: For the `./data/sharks.csv` data covered in the lecture, clean the \"Type\" variable as well as you can, and explain the choices you make.\n",
        "3. Dummy variable: For the pretrial data covered in the lecture, clean the `WhetherDefendantWasReleasedPretrial` variable as well as you can, and, in particular, replace missing values with `np.nan`.\n",
        "4. Missing values, not at random: For the pretrial data covered in the lecture, clean the `ImposedSentenceAllChargeInContactEvent` variable as well as you can, and explain the choices you make. (Hint: Look at the `SentenceTypeAllChargesAtConvictionInContactEvent` variable.)"
      ]
    },
    {
      "cell_type": "code",
      "execution_count": 2,
      "id": "09275c9d",
      "metadata": {},
      "outputs": [
        {
          "name": "stdout",
          "output_type": "stream",
          "text": [
            "(30478, 13) \n",
            "\n"
          ]
        }
      ],
      "source": [
        "import pandas as pd\n",
        "import numpy as np\n",
        "import seaborn as sns\n",
        "\n",
        "df = pd.read_csv('./data/airbnb_hw.csv', low_memory=False)\n",
        "print( df.shape, '\\n')\n",
        "df.head()\n",
        "\n",
        "df['Cleaned_Price'] = df['Price'].str.replace('[\\$,]', '', regex=True)\n",
        "df['Cleaned_Price'] = pd.to_numeric(df['Cleaned_Price'], errors='coerce')\n",
        "\n",
        "# Handling potential outliers\n",
        "reasonable_price_range = (df['Cleaned_Price'] > 0) & (df['Cleaned_Price'] < 10000)\n",
        "df['Cleaned_Price'] = df['Cleaned_Price'].where(reasonable_price_range, np.nan)\n",
        "missing_values_price = df['Cleaned_Price'].isnull().sum()\n"
      ]
    },
    {
      "cell_type": "code",
      "execution_count": 3,
      "id": "d14b9749",
      "metadata": {},
      "outputs": [],
      "source": [
        "df = pd.read_csv('./data/sharks.csv', low_memory=False)\n",
        "df.head()\n",
        "df.columns.tolist()\n",
        "df['Cleaned_Type'] = df['Type'].str.lower()\n",
        "df['Cleaned_Type'] = df['Cleaned_Type'].replace(['boat', 'boating', 'sea disaster'], 'watercraft')\n",
        "df['Cleaned_Type'] = df['Cleaned_Type'].replace(['invalid', 'questionable', 'unconfirmed', 'unverified', 'under investigation'], np.nan)\n"
      ]
    },
    {
      "attachments": {},
      "cell_type": "markdown",
      "id": "c11bcd96-2834-41a4-80fe-d354b4277fd9",
      "metadata": {
        "id": "c11bcd96-2834-41a4-80fe-d354b4277fd9"
      },
      "source": [
        "**Q3.** This question provides some practice doing exploratory data analysis and visualization.\n",
        "\n",
        "The \"relevant\" variables for this question are:\n",
        "  - `level` - Level of institution (4-year, 2-year)\n",
        "  - `aid_value` - The average amount of student aid going to undergraduate recipients\n",
        "  - `control` - Public, Private not-for-profit, Private for-profit\n",
        "  - `grad_100_value` - percentage of first-time, full-time, degree-seeking undergraduates who complete a degree or certificate program within 100 percent of expected time (bachelor's-seeking group at 4-year institutions)\n",
        "\n",
        "1. Load the `./data/college_completion.csv` data with Pandas.\n",
        "2. What are are the dimensions of the data? How many observations are there? What are the variables included? Use `.head()` to examine the first few rows of data.\n",
        "3. Cross tabulate `control` and `level`. Describe the patterns you see.\n",
        "4. For `grad_100_value`, create a histogram, kernel density plot, boxplot, and statistical description.\n",
        "5. For `grad_100_value`, create a grouped kernel density plot by `control` and by `level`. Describe what you see. Use `groupby` and `.describe` to make grouped calculations of statistical descriptions of `grad_100_value` by `level` and `control`. Which institutions appear to have the best graduation rates?\n",
        "6. Create a new variable, `df['levelXcontrol']=df['level']+', '+df['control']` that interacts level and control. Make a grouped kernel density plot. Which institutions appear to have the best graduation rates?\n",
        "7. Make a kernel density plot of `aid_value`. Notice that your graph is \"bi-modal\", having two little peaks that represent locally most common values. Now group your graph by `level` and `control`. What explains the bi-modal nature of the graph? Use `groupby` and `.describe` to make grouped calculations of statistical descriptions of `aid_value` by `level` and `control`.\n",
        "8. Make a scatterplot of `grad_100_value` by `aid_value`. Describe what you see. Now make the same plot, grouping by `level` and then `control`. Describe what you see. For which kinds of institutions does aid seem to increase graduation rates?"
      ]
    },
    {
      "attachments": {},
      "cell_type": "markdown",
      "id": "98d34a3b-c21d-4dc9-a8d2-fb7686804ceb",
      "metadata": {
        "id": "98d34a3b-c21d-4dc9-a8d2-fb7686804ceb"
      },
      "source": [
        "**Q4.** This question uses the Airbnb data to practice making visualizations.\n",
        "\n",
        "  1. Load the `./data/airbnb_hw.csv` data with Pandas. You should have cleaned the `Price` variable in question 2, and you'll need it later for this question.\n",
        "  2. What are are the dimensions of the data? How many observations are there? What are the variables included? Use `.head()` to examine the first few rows of data.\n",
        "  3. Cross tabulate `Room Type` and `Property Type`. What patterns do you see in what kinds of rentals are available? For which kinds of properties are private rooms more common than renting the entire property?\n",
        "  4. For `Price`, make a histogram, kernel density, box plot, and a statistical description of the variable. Are the data badly scaled? Are there many outliers? Use `log` to transform price into a new variable, `price_log`, and take these steps again.\n",
        "  5. Make a scatterplot of `price_log` and `Beds`. Describe what you see. Use `.groupby()` to compute a desciption of `Price` conditional on/grouped by the number of beds. Describe any patterns you see in the average price and standard deviation in prices.\n",
        "  6. Make a scatterplot of `price_log` and `Beds`, but color the graph by `Room Type` and `Property Type`. What patterns do you see? Compute a description of `Price` conditional on `Room Type` and `Property Type`. Which Room Type and Property Type have the highest prices on average? Which have the highest standard deviation? Does the mean or median appear to be a more reliable estimate of central tendency, and explain why?\n",
        "  7. We've looked a bit at this `price_log` and `Beds` scatterplot. Use seaborn to make a `jointplot` with `kind=hex`. Where are the data actually distributed? How does it affect the way you think about the plots in 5 and 6?"
      ]
    },
    {
      "attachments": {},
      "cell_type": "markdown",
      "id": "649494cd-cfd6-4f80-992a-9994fc19e1d5",
      "metadata": {
        "id": "649494cd-cfd6-4f80-992a-9994fc19e1d5"
      },
      "source": [
        "**Q5.** Many important datasets contain a race variable, typically limited to a handful of values often including Black, White, Asian, Latino, and Indigenous. This question looks at data gathering efforts on this variable by the U.S. Federal government.\n",
        "\n",
        "1. How did the most recent US Census gather data on race?\n",
        "\n",
        "- Surveys, Interviews online polls etc.\n",
        "\n",
        "2. Why do we gather these data? What role do these kinds of data play in politics and society? Why does data quality matter?\n",
        "\n",
        "- Our society is not just white people - its important to gather feedback from all backgrounds, race, culture etc. These data are used a lot for the wrong reasons and sometimes for the right reasons. Can be used for preditory advertisements to buy products, vote for politicans in certain communities. But they can also be used to address real socio-economic problems in communities of color. The quality of this data is important as we need to be as clear and transparent about these statistics because they will ultimately be used widely for a variety of reasons that will have an affect on peoples lives.\n",
        "\n",
        "3. Please provide a constructive criticism of how the Census was conducted: What was done well? What do you think was missing? How should future large scale surveys be adjusted to best reflect the diversity of the population? Could some of the Census' good practices be adopted more widely to gather richer and more useful data?\n",
        "\n",
        "- Lack of detailed interviews and representation of all communities. These surveys are usually conducted by white people so straight off the bat these results have some sort of bias. Its important to understand the culture behind the people we are asking to fill out census data since context is extremely important in the representation of statistics.\n",
        "\n",
        "4. How did the Census gather data on sex and gender? Please provide a similar constructive criticism of their practices.\n",
        "\n",
        "- Online Surverys/ Questionares also interviews. Gender and sexuality takes on a much more broad definition when we leave the realms of the bible. We cannot conduct survey feedback from the point of view of one culture - this is a tedious process but it must be met with precise work and detail since its uses will have an outcome on the people.\n",
        "\n",
        "5. When it comes to cleaning data, what concerns do you have about protected characteristics like sex, gender, sexual identity, or race? What challenges can you imagine arising when there are missing values? What good or bad practices might people adopt, and why?\n",
        "\n",
        "- cleaning data based off of gender - people have different concepts of gender and having a set standard can be unconventional and controversial when applying to minority communities. If we are to represent the data and information of all of out citizens we must take into account all citizens as best we can.\n",
        "\n",
        "6. Suppose someone invented an algorithm to impute values for protected characteristics like race, gender, sex, or sexuality. What kinds of concerns would you have?\n",
        "\n",
        "- Race, Gender Sex and Sexuality is not as simple as 1 and 0 its complex across its deffinitons and has multiple/ various perspectives across cultures. Having one algorithm to determine these concepts breaks them down into a numerical value which is not the case for these ideas. Much more spoken analysis and context needs to be done in order to have a proper discussion and presentation of the data of these concepts."
      ]
    },
    {
      "attachments": {},
      "cell_type": "markdown",
      "id": "2f38f2fd-6381-481d-bba9-017f3d363426",
      "metadata": {
        "id": "2f38f2fd-6381-481d-bba9-017f3d363426"
      },
      "source": [
        "**Q6.** Open the `./data/CBO_data.pdf` file. This contains tax data for 2019, explaining where the money comes from that the U.S. Federal Government Spends in terms of taxation on individuals/families and payroll taxes (the amount that your employer pays in taxes on your wages).\n",
        "\n",
        "For some context, the Federal government ultimately spent about $4.4 trillion in 2019, which was 21% of GDP (the total monetary value of all goods and services produced within the United States). Individual Income Taxes is the amount individuals pay on their wages to the Federal government, Corporate Income Taxes is the taxes individuals pay on capital gains from investment when they sell stock or other financial instruments, Payroll Taxes is the tax your employer pays on your wages, Excises and Customs Duties are taxes on goods or services like sin taxes on cigarettes or alcohol, and Estate and Gift Taxes are taxes paid on transfers of wealth to other people.\n",
        "\n",
        "1. Get the Millions of Families and Billions of Dollars data into a .csv file and load it with Pandas.\n",
        "2. Create a bar plot of individual income taxes by income decile. Explain what the graph shows. Why are some values negative?\n",
        "3. Create a bar plot of Total Federal Taxes by income decile. Which deciles are paying net positive amounts, and which are paying net negative amounts?\n",
        "4. Create a stacked bar plot for which Total Federal Taxes is grouped by Individual Income Taxes, Payroll Taxes, Excises and Customs Duties, and Estate and Gift Taxes. How does the share of taxes paid vary across the adjusted income deciles? (Hint: Are these the kind of data you want to melt?)\n",
        "5. Below the Total line for Millions of Families and Billions of Dollars, there are data for the richest of the richest families. Plot this alongside the bars for the deciles above the Total line. Describe your results.\n",
        "6. Get the Percent Distribution data into a .csv file and load it with Pandas. Create a bar graph of Total Federal Taxes by income decile.\n",
        "7. A tax system is progressive if higher-income and wealthier individuals pay more than lower-income and less wealthy individuals, and it is regressive if the opposite is true. Is the U.S. tax system progressive in terms of amount paid? In terms of the percentage of the overall total?\n",
        "8. Do the rich pay enough in taxes? Defend your answer.\n",
        "    -> no they don't: "
      ]
    }
  ],
  "metadata": {
    "colab": {
      "provenance": []
    },
    "kernelspec": {
      "display_name": "Python 3 (ipykernel)",
      "language": "python",
      "name": "python3"
    },
    "language_info": {
      "codemirror_mode": {
        "name": "ipython",
        "version": 3
      },
      "file_extension": ".py",
      "mimetype": "text/x-python",
      "name": "python",
      "nbconvert_exporter": "python",
      "pygments_lexer": "ipython3",
      "version": "3.9.6"
    }
  },
  "nbformat": 4,
  "nbformat_minor": 5
}
