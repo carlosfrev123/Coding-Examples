{
 "cells": [
  {
   "cell_type": "markdown",
   "id": "d83f95a6",
   "metadata": {},
   "source": [
    "## Python Fundamentals\n",
    "\n",
    "### 1.0. Importing Libraries"
   ]
  },
  {
   "cell_type": "code",
   "execution_count": 1,
   "id": "4d695ea1",
   "metadata": {},
   "outputs": [],
   "source": [
    "import pandas as pd\n",
    "import numpy as np"
   ]
  },
  {
   "cell_type": "markdown",
   "id": "e3dceb92",
   "metadata": {},
   "source": [
    "### 2.0. Variables: Unary Values"
   ]
  },
  {
   "cell_type": "code",
   "execution_count": 2,
   "id": "376ea00f",
   "metadata": {},
   "outputs": [
    {
     "name": "stdout",
     "output_type": "stream",
     "text": [
      "The variable 'my_string' contains the value: 'What is the Answer?' and is of datatype: '<class 'str'>'\n",
      "The variable 'my_number' contains the value: 42 and is of datatype: '<class 'int'>'\n"
     ]
    }
   ],
   "source": [
    "my_string = \"What is the Answer?\"\n",
    "my_number = 42\n",
    "\n",
    "print(f\"The variable 'my_string' contains the value: '{my_string}' and is of datatype: '{type(my_string)}'\")\n",
    "print(f\"The variable 'my_number' contains the value: {my_number} and is of datatype: '{type(my_number)}'\")"
   ]
  },
  {
   "cell_type": "markdown",
   "id": "2e9d1f2b",
   "metadata": {},
   "source": [
    "### 3.0. Multi-Value Variables: Vectors, Lists, and Dictionaries"
   ]
  },
  {
   "cell_type": "code",
   "execution_count": 3,
   "id": "e091e7a6",
   "metadata": {},
   "outputs": [
    {
     "name": "stdout",
     "output_type": "stream",
     "text": [
      "The variable 'my_vector' contains the value: '{0, 1, 2, 3, 'Three', 'One', 'Two'}' and is of datatype: '<class 'set'>'\n",
      "0\n",
      "1\n",
      "2\n",
      "3\n",
      "Three\n",
      "One\n",
      "Two\n"
     ]
    }
   ],
   "source": [
    "my_vector = {0, 1, 2, 3, 'One', 'Two', 'Three'}\n",
    "print(f\"The variable 'my_vector' contains the value: '{my_vector}' and is of datatype: '{type(my_vector)}'\")\n",
    "\n",
    "for i in my_vector:\n",
    "    print(i)"
   ]
  },
  {
   "cell_type": "code",
   "execution_count": 4,
   "id": "76f9abb4",
   "metadata": {
    "scrolled": true
   },
   "outputs": [
    {
     "name": "stdout",
     "output_type": "stream",
     "text": [
      "The variable 'my_string' contains the value: '[1, 2.0, 3.14, 'One', 'Two', 'Three', 'Four', 'Five']' and is of datatype: '<class 'list'>'\n",
      "Item number: 1\n",
      "Item number: 2.0\n",
      "Item number: 3.14\n",
      "Item number: One\n",
      "Item number: Two\n",
      "Item number: Three\n",
      "Item number: Four\n",
      "Item number: Five\n"
     ]
    }
   ],
   "source": [
    "my_list = [1,2.0,3.14,'One','Two','Three','Four','Five']\n",
    "print(f\"The variable 'my_string' contains the value: '{my_list}' and is of datatype: '{type(my_list)}'\")\n",
    "\n",
    "for item in my_list:\n",
    "    print(f\"Item number: {item}\")"
   ]
  },
  {
   "cell_type": "code",
   "execution_count": 5,
   "id": "34d01609",
   "metadata": {},
   "outputs": [
    {
     "data": {
      "text/plain": [
       "1"
      ]
     },
     "execution_count": 5,
     "metadata": {},
     "output_type": "execute_result"
    }
   ],
   "source": [
    "my_list[0]"
   ]
  },
  {
   "cell_type": "code",
   "execution_count": 6,
   "id": "7ba0a638",
   "metadata": {},
   "outputs": [
    {
     "data": {
      "text/plain": [
       "[1, 2.0, 3.14]"
      ]
     },
     "execution_count": 6,
     "metadata": {},
     "output_type": "execute_result"
    }
   ],
   "source": [
    "my_list[:3]"
   ]
  },
  {
   "cell_type": "code",
   "execution_count": 9,
   "id": "84cb51a0",
   "metadata": {},
   "outputs": [
    {
     "data": {
      "text/plain": [
       "'Four'"
      ]
     },
     "execution_count": 9,
     "metadata": {},
     "output_type": "execute_result"
    }
   ],
   "source": [
    "my_list[-2]"
   ]
  },
  {
   "cell_type": "code",
   "execution_count": 10,
   "id": "310715f1",
   "metadata": {},
   "outputs": [
    {
     "name": "stdout",
     "output_type": "stream",
     "text": [
      "The variable 'my_dictionary' contains the value: '{0: 'John', 1: 'Paul', 2: 'George', 3: 'Pete', 4: 'Ringo'}' and is of datatype: '<class 'dict'>'\n",
      "Each Item in My Dictionary Contains a Key 0, and a Value 'John'\n",
      "Each Item in My Dictionary Contains a Key 1, and a Value 'Paul'\n",
      "Each Item in My Dictionary Contains a Key 2, and a Value 'George'\n",
      "Each Item in My Dictionary Contains a Key 3, and a Value 'Pete'\n",
      "Each Item in My Dictionary Contains a Key 4, and a Value 'Ringo'\n"
     ]
    }
   ],
   "source": [
    "my_dictionary = {0 : 'John',\n",
    "                 1 : 'Paul',\n",
    "                 2 : 'George',\n",
    "                 3 : 'Pete',\n",
    "                 4 : 'Ringo'\n",
    "                }\n",
    "\n",
    "print(f\"The variable 'my_dictionary' contains the value: '{my_dictionary}' and is of datatype: '{type(my_dictionary)}'\")\n",
    "\n",
    "for i in my_dictionary:\n",
    "    print(f\"Each Item in My Dictionary Contains a Key {i}, and a Value '{my_dictionary[i]}'\")"
   ]
  },
  {
   "cell_type": "markdown",
   "id": "b7d388cc",
   "metadata": {},
   "source": [
    "### 4.0. Creating (Defining) Functions"
   ]
  },
  {
   "cell_type": "code",
   "execution_count": 11,
   "id": "b64f1999",
   "metadata": {},
   "outputs": [],
   "source": [
    "def add(x1, x2, x3):\n",
    "    return x1 + x2 + x3"
   ]
  },
  {
   "cell_type": "code",
   "execution_count": 12,
   "id": "2e2c26eb",
   "metadata": {},
   "outputs": [
    {
     "data": {
      "text/plain": [
       "9"
      ]
     },
     "execution_count": 12,
     "metadata": {},
     "output_type": "execute_result"
    }
   ],
   "source": [
    "add(3,3,3)"
   ]
  },
  {
   "cell_type": "code",
   "execution_count": 13,
   "id": "e0530dd1",
   "metadata": {},
   "outputs": [],
   "source": [
    "def concatenate(str1, str2):\n",
    "    return f\"{str1}{str2}\""
   ]
  },
  {
   "cell_type": "code",
   "execution_count": 14,
   "id": "9c0c6c33",
   "metadata": {},
   "outputs": [
    {
     "data": {
      "text/plain": [
       "'string1string2'"
      ]
     },
     "execution_count": 14,
     "metadata": {},
     "output_type": "execute_result"
    }
   ],
   "source": [
    "concatenate(\"string1\", \"string2\")"
   ]
  }
 ],
 "metadata": {
  "kernelspec": {
   "display_name": "Python 3 (ipykernel)",
   "language": "python",
   "name": "python3"
  },
  "language_info": {
   "codemirror_mode": {
    "name": "ipython",
    "version": 3
   },
   "file_extension": ".py",
   "mimetype": "text/x-python",
   "name": "python",
   "nbconvert_exporter": "python",
   "pygments_lexer": "ipython3",
   "version": "3.9.7"
  }
 },
 "nbformat": 4,
 "nbformat_minor": 5
}
