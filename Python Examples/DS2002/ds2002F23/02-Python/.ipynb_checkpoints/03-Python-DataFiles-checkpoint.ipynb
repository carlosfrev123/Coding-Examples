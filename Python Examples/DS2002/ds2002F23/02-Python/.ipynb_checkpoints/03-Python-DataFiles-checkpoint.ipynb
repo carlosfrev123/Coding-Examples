{
 "cells": [
  {
   "cell_type": "markdown",
   "id": "0d1275e1",
   "metadata": {},
   "source": [
    "## Using Python to Extract Data From Files"
   ]
  },
  {
   "cell_type": "code",
   "execution_count": 3,
   "id": "d34debf1",
   "metadata": {},
   "outputs": [
    {
     "ename": "ModuleNotFoundError",
     "evalue": "No module named 'pandas'",
     "output_type": "error",
     "traceback": [
      "\u001b[0;31m---------------------------------------------------------------------------\u001b[0m",
      "\u001b[0;31mModuleNotFoundError\u001b[0m                       Traceback (most recent call last)",
      "Cell \u001b[0;32mIn[3], line 2\u001b[0m\n\u001b[1;32m      1\u001b[0m \u001b[39mimport\u001b[39;00m \u001b[39mos\u001b[39;00m\n\u001b[0;32m----> 2\u001b[0m \u001b[39mimport\u001b[39;00m \u001b[39mpandas\u001b[39;00m \u001b[39mas\u001b[39;00m \u001b[39mpd\u001b[39;00m\n",
      "\u001b[0;31mModuleNotFoundError\u001b[0m: No module named 'pandas'"
     ]
    }
   ],
   "source": [
    "import os\n",
    "import pandas as pd"
   ]
  },
  {
   "cell_type": "markdown",
   "id": "077c1ba9",
   "metadata": {},
   "source": [
    "### 1.0. Load Data from a Comma-Separated Values (CSV) File"
   ]
  },
  {
   "cell_type": "code",
   "execution_count": 1,
   "id": "049d22e5",
   "metadata": {},
   "outputs": [
    {
     "ename": "NameError",
     "evalue": "name 'os' is not defined",
     "output_type": "error",
     "traceback": [
      "\u001b[0;31m---------------------------------------------------------------------------\u001b[0m",
      "\u001b[0;31mNameError\u001b[0m                                 Traceback (most recent call last)",
      "Cell \u001b[0;32mIn[1], line 1\u001b[0m\n\u001b[0;32m----> 1\u001b[0m data_dir \u001b[39m=\u001b[39m os\u001b[39m.\u001b[39mpath\u001b[39m.\u001b[39mjoin(os\u001b[39m.\u001b[39mgetcwd(), \u001b[39m'\u001b[39m\u001b[39mdata\u001b[39m\u001b[39m'\u001b[39m)\n\u001b[1;32m      2\u001b[0m data_file \u001b[39m=\u001b[39m os\u001b[39m.\u001b[39mpath\u001b[39m.\u001b[39mjoin(data_dir, \u001b[39m'\u001b[39m\u001b[39mnorthwind_products.csv\u001b[39m\u001b[39m'\u001b[39m)\n\u001b[1;32m      4\u001b[0m df \u001b[39m=\u001b[39m pd\u001b[39m.\u001b[39mread_csv(data_file, header\u001b[39m=\u001b[39m\u001b[39m0\u001b[39m, index_col\u001b[39m=\u001b[39m\u001b[39m0\u001b[39m)\n",
      "\u001b[0;31mNameError\u001b[0m: name 'os' is not defined"
     ]
    }
   ],
   "source": [
    "data_dir = os.path.join(os.getcwd(), 'data')\n",
    "data_file = os.path.join(data_dir, 'northwind_products.csv')\n",
    "\n",
    "df = pd.read_csv(data_file, header=0, index_col=0)\n",
    "df.head()"
   ]
  },
  {
   "cell_type": "markdown",
   "id": "764ab3e8",
   "metadata": {},
   "source": [
    "### 2.0. Drop Unimportant Features"
   ]
  },
  {
   "cell_type": "code",
   "execution_count": null,
   "id": "3e149bf8",
   "metadata": {},
   "outputs": [
    {
     "data": {
      "text/plain": [
       "Index(['supplier_ids', 'id', 'product_code', 'product_name', 'standard_cost',\n",
       "       'list_price', 'reorder_level', 'target_level', 'quantity_per_unit',\n",
       "       'discontinued', 'minimum_reorder_quantity', 'category'],\n",
       "      dtype='object')"
      ]
     },
     "execution_count": 3,
     "metadata": {},
     "output_type": "execute_result"
    }
   ],
   "source": [
    "df.drop(['description','attachments'], axis=1, inplace=True)\n",
    "df.columns"
   ]
  },
  {
   "cell_type": "markdown",
   "id": "baeec0a8",
   "metadata": {},
   "source": [
    "### 3.0. Add a New Feature Using a Map (Dictionary) to Assign New Values"
   ]
  },
  {
   "cell_type": "code",
   "execution_count": 2,
   "id": "d0637119",
   "metadata": {},
   "outputs": [
    {
     "ename": "NameError",
     "evalue": "name 'df' is not defined",
     "output_type": "error",
     "traceback": [
      "\u001b[0;31m---------------------------------------------------------------------------\u001b[0m",
      "\u001b[0;31mNameError\u001b[0m                                 Traceback (most recent call last)",
      "Cell \u001b[0;32mIn[2], line 1\u001b[0m\n\u001b[0;32m----> 1\u001b[0m df[\u001b[39m'\u001b[39m\u001b[39mdiscontinued_desc\u001b[39m\u001b[39m'\u001b[39m] \u001b[39m=\u001b[39m df\u001b[39m.\u001b[39mdiscontinued\u001b[39m.\u001b[39mmap({\u001b[39m1\u001b[39m: \u001b[39m'\u001b[39m\u001b[39mTrue\u001b[39m\u001b[39m'\u001b[39m, \u001b[39m0\u001b[39m: \u001b[39m'\u001b[39m\u001b[39mFalse\u001b[39m\u001b[39m'\u001b[39m})\n\u001b[1;32m      2\u001b[0m df\u001b[39m.\u001b[39mhead()\n",
      "\u001b[0;31mNameError\u001b[0m: name 'df' is not defined"
     ]
    }
   ],
   "source": [
    "df['discontinued_desc'] = df.discontinued.map({1: 'True', 0: 'False'})\n",
    "df.head()"
   ]
  },
  {
   "cell_type": "markdown",
   "id": "3ca5a1f6",
   "metadata": {},
   "source": [
    "### 4.0. Identify Duplicated Observations"
   ]
  },
  {
   "cell_type": "code",
   "execution_count": null,
   "id": "e18e53de",
   "metadata": {},
   "outputs": [
    {
     "data": {
      "text/html": [
       "<div>\n",
       "<style scoped>\n",
       "    .dataframe tbody tr th:only-of-type {\n",
       "        vertical-align: middle;\n",
       "    }\n",
       "\n",
       "    .dataframe tbody tr th {\n",
       "        vertical-align: top;\n",
       "    }\n",
       "\n",
       "    .dataframe thead th {\n",
       "        text-align: right;\n",
       "    }\n",
       "</style>\n",
       "<table border=\"1\" class=\"dataframe\">\n",
       "  <thead>\n",
       "    <tr style=\"text-align: right;\">\n",
       "      <th></th>\n",
       "      <th>supplier_ids</th>\n",
       "      <th>id</th>\n",
       "      <th>product_code</th>\n",
       "      <th>product_name</th>\n",
       "      <th>standard_cost</th>\n",
       "      <th>list_price</th>\n",
       "      <th>reorder_level</th>\n",
       "      <th>target_level</th>\n",
       "      <th>quantity_per_unit</th>\n",
       "      <th>discontinued</th>\n",
       "      <th>minimum_reorder_quantity</th>\n",
       "      <th>category</th>\n",
       "      <th>discontinued_desc</th>\n",
       "    </tr>\n",
       "  </thead>\n",
       "  <tbody>\n",
       "    <tr>\n",
       "      <th>4</th>\n",
       "      <td>2;6</td>\n",
       "      <td>6</td>\n",
       "      <td>NWTJP-6</td>\n",
       "      <td>Northwind Traders Boysenberry Spread</td>\n",
       "      <td>18.75</td>\n",
       "      <td>25.0</td>\n",
       "      <td>25</td>\n",
       "      <td>100</td>\n",
       "      <td>12 - 8 oz jars</td>\n",
       "      <td>0</td>\n",
       "      <td>25.0</td>\n",
       "      <td>Jams, Preserves</td>\n",
       "      <td>False</td>\n",
       "    </tr>\n",
       "    <tr>\n",
       "      <th>10</th>\n",
       "      <td>2;6</td>\n",
       "      <td>20</td>\n",
       "      <td>NWTJP-6</td>\n",
       "      <td>Northwind Traders Marmalade</td>\n",
       "      <td>60.75</td>\n",
       "      <td>81.0</td>\n",
       "      <td>10</td>\n",
       "      <td>40</td>\n",
       "      <td>30 gift boxes</td>\n",
       "      <td>0</td>\n",
       "      <td>10.0</td>\n",
       "      <td>Jams, Preserves</td>\n",
       "      <td>False</td>\n",
       "    </tr>\n",
       "    <tr>\n",
       "      <th>28</th>\n",
       "      <td>1</td>\n",
       "      <td>82</td>\n",
       "      <td>NWTC-82</td>\n",
       "      <td>Northwind Traders Granola</td>\n",
       "      <td>2.00</td>\n",
       "      <td>4.0</td>\n",
       "      <td>20</td>\n",
       "      <td>100</td>\n",
       "      <td>NaN</td>\n",
       "      <td>0</td>\n",
       "      <td>NaN</td>\n",
       "      <td>Cereal</td>\n",
       "      <td>False</td>\n",
       "    </tr>\n",
       "    <tr>\n",
       "      <th>42</th>\n",
       "      <td>1</td>\n",
       "      <td>97</td>\n",
       "      <td>NWTC-82</td>\n",
       "      <td>Northwind Traders Hot Cereal</td>\n",
       "      <td>3.00</td>\n",
       "      <td>5.0</td>\n",
       "      <td>50</td>\n",
       "      <td>200</td>\n",
       "      <td>NaN</td>\n",
       "      <td>0</td>\n",
       "      <td>NaN</td>\n",
       "      <td>Cereal</td>\n",
       "      <td>False</td>\n",
       "    </tr>\n",
       "  </tbody>\n",
       "</table>\n",
       "</div>"
      ],
      "text/plain": [
       "   supplier_ids  id product_code                          product_name  \\\n",
       "4           2;6   6      NWTJP-6  Northwind Traders Boysenberry Spread   \n",
       "10          2;6  20      NWTJP-6           Northwind Traders Marmalade   \n",
       "28            1  82      NWTC-82             Northwind Traders Granola   \n",
       "42            1  97      NWTC-82          Northwind Traders Hot Cereal   \n",
       "\n",
       "    standard_cost  list_price  reorder_level  target_level quantity_per_unit  \\\n",
       "4           18.75        25.0             25           100    12 - 8 oz jars   \n",
       "10          60.75        81.0             10            40     30 gift boxes   \n",
       "28           2.00         4.0             20           100               NaN   \n",
       "42           3.00         5.0             50           200               NaN   \n",
       "\n",
       "    discontinued  minimum_reorder_quantity         category discontinued_desc  \n",
       "4              0                      25.0  Jams, Preserves             False  \n",
       "10             0                      10.0  Jams, Preserves             False  \n",
       "28             0                       NaN           Cereal             False  \n",
       "42             0                       NaN           Cereal             False  "
      ]
     },
     "execution_count": 5,
     "metadata": {},
     "output_type": "execute_result"
    }
   ],
   "source": [
    "df[df.duplicated(subset='product_code', keep=False) == True]"
   ]
  },
  {
   "cell_type": "code",
   "execution_count": null,
   "id": "1cd83093",
   "metadata": {},
   "outputs": [],
   "source": []
  }
 ],
 "metadata": {
  "kernelspec": {
   "display_name": "Python 3 (ipykernel)",
   "language": "python",
   "name": "python3"
  },
  "language_info": {
   "codemirror_mode": {
    "name": "ipython",
    "version": 3
   },
   "file_extension": ".py",
   "mimetype": "text/x-python",
   "name": "python",
   "nbconvert_exporter": "python",
   "pygments_lexer": "ipython3",
   "version": "3.9.6"
  }
 },
 "nbformat": 4,
 "nbformat_minor": 5
}
